{
 "cells": [
  {
   "cell_type": "code",
   "execution_count": 1,
   "id": "3ed5b34d-d025-42fc-be29-e12328c17ff7",
   "metadata": {},
   "outputs": [],
   "source": [
    "import polars as pl\n",
    "import polars.selectors as cs"
   ]
  },
  {
   "cell_type": "markdown",
   "id": "5cb383b1-8df1-4703-8bcf-31e93942d2b4",
   "metadata": {},
   "source": [
    "## Overview\n",
    "\n",
    "Next we look at applying the accumulation pattern to an arbitrary number of rows using the `reduce` and `fold` methods of a column expression, where\n",
    "\n",
    "1. `reduce` uses the first column as the initial value, and\n",
    "2. `fold` allows the user to specify an initial value."
   ]
  },
  {
   "cell_type": "markdown",
   "id": "cff9ef95-f3fb-456f-82da-5a1e9394cadf",
   "metadata": {},
   "source": [
    "## The data - Auto Sales for April and May"
   ]
  },
  {
   "cell_type": "code",
   "execution_count": 2,
   "id": "8ce5d8cc-f610-4617-a43b-36263226dffb",
   "metadata": {},
   "outputs": [
    {
     "name": "stdout",
     "output_type": "stream",
     "text": [
      "-rw-------@  1 bn8210wy  staff      120 Feb 18  2021 auto_sales_apr.csv\n",
      "-rw-------@  1 bn8210wy  staff      120 Feb 18  2021 auto_sales_may.csv\n"
     ]
    }
   ],
   "source": [
    "%%bash\n",
    "\n",
    "ls -alG data | grep auto"
   ]
  },
  {
   "cell_type": "code",
   "execution_count": 3,
   "id": "ab9198fd-a505-453c-a48d-b9f6eb17e6fa",
   "metadata": {},
   "outputs": [
    {
     "data": {
      "text/html": [
       "<div><style>\n",
       ".dataframe > thead > tr,\n",
       ".dataframe > tbody > tr {\n",
       "  text-align: right;\n",
       "  white-space: pre-wrap;\n",
       "}\n",
       "</style>\n",
       "<small>shape: (8, 6)</small><table border=\"1\" class=\"dataframe\"><thead><tr><th>ID</th><th>Salesperson</th><th>Compact</th><th>Sedan</th><th>SUV</th><th>Truck</th></tr><tr><td>i64</td><td>str</td><td>i64</td><td>i64</td><td>i64</td><td>i64</td></tr></thead><tbody><tr><td>0</td><td>&quot;Ann&quot;</td><td>22</td><td>18</td><td>15</td><td>12</td></tr><tr><td>1</td><td>&quot;Bob&quot;</td><td>19</td><td>12</td><td>17</td><td>20</td></tr><tr><td>2</td><td>&quot;Yolanda&quot;</td><td>19</td><td>8</td><td>32</td><td>15</td></tr><tr><td>3</td><td>&quot;Xerxes&quot;</td><td>12</td><td>23</td><td>18</td><td>9</td></tr><tr><td>0</td><td>&quot;Ann&quot;</td><td>22</td><td>18</td><td>15</td><td>12</td></tr><tr><td>1</td><td>&quot;Bob&quot;</td><td>20</td><td>14</td><td>6</td><td>24</td></tr><tr><td>2</td><td>&quot;Yolanda&quot;</td><td>19</td><td>10</td><td>28</td><td>17</td></tr><tr><td>3</td><td>&quot;Xerxes&quot;</td><td>11</td><td>27</td><td>17</td><td>9</td></tr></tbody></table></div>"
      ],
      "text/plain": [
       "shape: (8, 6)\n",
       "┌─────┬─────────────┬─────────┬───────┬─────┬───────┐\n",
       "│ ID  ┆ Salesperson ┆ Compact ┆ Sedan ┆ SUV ┆ Truck │\n",
       "│ --- ┆ ---         ┆ ---     ┆ ---   ┆ --- ┆ ---   │\n",
       "│ i64 ┆ str         ┆ i64     ┆ i64   ┆ i64 ┆ i64   │\n",
       "╞═════╪═════════════╪═════════╪═══════╪═════╪═══════╡\n",
       "│ 0   ┆ Ann         ┆ 22      ┆ 18    ┆ 15  ┆ 12    │\n",
       "│ 1   ┆ Bob         ┆ 19      ┆ 12    ┆ 17  ┆ 20    │\n",
       "│ 2   ┆ Yolanda     ┆ 19      ┆ 8     ┆ 32  ┆ 15    │\n",
       "│ 3   ┆ Xerxes      ┆ 12      ┆ 23    ┆ 18  ┆ 9     │\n",
       "│ 0   ┆ Ann         ┆ 22      ┆ 18    ┆ 15  ┆ 12    │\n",
       "│ 1   ┆ Bob         ┆ 20      ┆ 14    ┆ 6   ┆ 24    │\n",
       "│ 2   ┆ Yolanda     ┆ 19      ┆ 10    ┆ 28  ┆ 17    │\n",
       "│ 3   ┆ Xerxes      ┆ 11      ┆ 27    ┆ 17  ┆ 9     │\n",
       "└─────┴─────────────┴─────────┴───────┴─────┴───────┘"
      ]
     },
     "execution_count": 3,
     "metadata": {},
     "output_type": "execute_result"
    }
   ],
   "source": [
    "(auto_sale_apr_may :=\n",
    " pl.read_csv('./data/auto_sales_*.csv') # Using the `polars` built-in glob\n",
    " .rename({'':'ID'})\n",
    ")"
   ]
  },
  {
   "cell_type": "markdown",
   "id": "579c6c43-c721-4d22-ad65-6b29c853f691",
   "metadata": {},
   "source": [
    "## Accumulating columns\n",
    "\n",
    "We want to scale up column formulas that compute statistics, like the\n",
    "\n",
    "1. total,\n",
    "2. max,\n",
    "3. count of non-null, etc."
   ]
  },
  {
   "cell_type": "markdown",
   "id": "55978d65-35be-43ba-a49d-cb9de4e854b8",
   "metadata": {},
   "source": [
    "### Example - Compute the total auto sales per salesperson\n",
    "\n",
    "1. Group and aggregate across rows,\n",
    "2. Compute total across the sub-type columns."
   ]
  },
  {
   "cell_type": "markdown",
   "id": "70e49f09-2eca-4c23-a236-0c71211a3318",
   "metadata": {},
   "source": [
    "#### Solution 1 - The WET solution"
   ]
  },
  {
   "cell_type": "code",
   "execution_count": 7,
   "id": "c42cd846-1ba6-48b9-b48a-e6f6a25453cb",
   "metadata": {},
   "outputs": [
    {
     "data": {
      "text/html": [
       "<div><style>\n",
       ".dataframe > thead > tr,\n",
       ".dataframe > tbody > tr {\n",
       "  text-align: right;\n",
       "  white-space: pre-wrap;\n",
       "}\n",
       "</style>\n",
       "<small>shape: (4, 6)</small><table border=\"1\" class=\"dataframe\"><thead><tr><th>Salesperson</th><th>Compact</th><th>Sedan</th><th>SUV</th><th>Truck</th><th>total</th></tr><tr><td>str</td><td>i64</td><td>i64</td><td>i64</td><td>i64</td><td>i64</td></tr></thead><tbody><tr><td>&quot;Ann&quot;</td><td>44</td><td>36</td><td>30</td><td>24</td><td>134</td></tr><tr><td>&quot;Yolanda&quot;</td><td>38</td><td>18</td><td>60</td><td>32</td><td>148</td></tr><tr><td>&quot;Bob&quot;</td><td>39</td><td>26</td><td>23</td><td>44</td><td>132</td></tr><tr><td>&quot;Xerxes&quot;</td><td>23</td><td>50</td><td>35</td><td>18</td><td>126</td></tr></tbody></table></div>"
      ],
      "text/plain": [
       "shape: (4, 6)\n",
       "┌─────────────┬─────────┬───────┬─────┬───────┬───────┐\n",
       "│ Salesperson ┆ Compact ┆ Sedan ┆ SUV ┆ Truck ┆ total │\n",
       "│ ---         ┆ ---     ┆ ---   ┆ --- ┆ ---   ┆ ---   │\n",
       "│ str         ┆ i64     ┆ i64   ┆ i64 ┆ i64   ┆ i64   │\n",
       "╞═════════════╪═════════╪═══════╪═════╪═══════╪═══════╡\n",
       "│ Ann         ┆ 44      ┆ 36    ┆ 30  ┆ 24    ┆ 134   │\n",
       "│ Yolanda     ┆ 38      ┆ 18    ┆ 60  ┆ 32    ┆ 148   │\n",
       "│ Bob         ┆ 39      ┆ 26    ┆ 23  ┆ 44    ┆ 132   │\n",
       "│ Xerxes      ┆ 23      ┆ 50    ┆ 35  ┆ 18    ┆ 126   │\n",
       "└─────────────┴─────────┴───────┴─────┴───────┴───────┘"
      ]
     },
     "execution_count": 7,
     "metadata": {},
     "output_type": "execute_result"
    }
   ],
   "source": [
    "( auto_sale_apr_may\n",
    "  .drop('ID')\n",
    "  .group_by('Salesperson')\n",
    "  .agg(pl.col('Compact').sum(),\t\n",
    "       pl.col('Sedan').sum(),\t\n",
    "       pl.col('SUV').sum(),\t\n",
    "       pl.col('Truck').sum(),\n",
    "      )\n",
    "  .with_columns(total = pl.col('Compact') +\tpl.col('Sedan') + pl.col('SUV') +\tpl.col('Truck'))\n",
    ")"
   ]
  },
  {
   "cell_type": "markdown",
   "id": "d03e0f90-3b34-4996-a023-ad945cb3fb74",
   "metadata": {},
   "source": [
    "#### Cleaning up the aggregation with column selectors"
   ]
  },
  {
   "cell_type": "code",
   "execution_count": 10,
   "id": "45fa80a8-d964-404e-ad73-e2193d4a22f0",
   "metadata": {},
   "outputs": [
    {
     "data": {
      "text/html": [
       "<div><style>\n",
       ".dataframe > thead > tr,\n",
       ".dataframe > tbody > tr {\n",
       "  text-align: right;\n",
       "  white-space: pre-wrap;\n",
       "}\n",
       "</style>\n",
       "<small>shape: (4, 6)</small><table border=\"1\" class=\"dataframe\"><thead><tr><th>Salesperson</th><th>Compact</th><th>Sedan</th><th>SUV</th><th>Truck</th><th>total</th></tr><tr><td>str</td><td>i64</td><td>i64</td><td>i64</td><td>i64</td><td>i64</td></tr></thead><tbody><tr><td>&quot;Ann&quot;</td><td>44</td><td>36</td><td>30</td><td>24</td><td>134</td></tr><tr><td>&quot;Bob&quot;</td><td>39</td><td>26</td><td>23</td><td>44</td><td>132</td></tr><tr><td>&quot;Yolanda&quot;</td><td>38</td><td>18</td><td>60</td><td>32</td><td>148</td></tr><tr><td>&quot;Xerxes&quot;</td><td>23</td><td>50</td><td>35</td><td>18</td><td>126</td></tr></tbody></table></div>"
      ],
      "text/plain": [
       "shape: (4, 6)\n",
       "┌─────────────┬─────────┬───────┬─────┬───────┬───────┐\n",
       "│ Salesperson ┆ Compact ┆ Sedan ┆ SUV ┆ Truck ┆ total │\n",
       "│ ---         ┆ ---     ┆ ---   ┆ --- ┆ ---   ┆ ---   │\n",
       "│ str         ┆ i64     ┆ i64   ┆ i64 ┆ i64   ┆ i64   │\n",
       "╞═════════════╪═════════╪═══════╪═════╪═══════╪═══════╡\n",
       "│ Ann         ┆ 44      ┆ 36    ┆ 30  ┆ 24    ┆ 134   │\n",
       "│ Bob         ┆ 39      ┆ 26    ┆ 23  ┆ 44    ┆ 132   │\n",
       "│ Yolanda     ┆ 38      ┆ 18    ┆ 60  ┆ 32    ┆ 148   │\n",
       "│ Xerxes      ┆ 23      ┆ 50    ┆ 35  ┆ 18    ┆ 126   │\n",
       "└─────────────┴─────────┴───────┴─────┴───────┴───────┘"
      ]
     },
     "execution_count": 10,
     "metadata": {},
     "output_type": "execute_result"
    }
   ],
   "source": [
    "( auto_sale_apr_may\n",
    "  .drop('ID')\n",
    "  .group_by('Salesperson')\n",
    "  .agg(cs.integer().sum())\n",
    "  .with_columns(total = pl.col('Compact') +\tpl.col('Sedan') +\tpl.col('SUV') +\tpl.col('Truck'))\n",
    ")"
   ]
  },
  {
   "cell_type": "markdown",
   "id": "338e376e-4a95-4c68-a0d2-7d7f592f75f2",
   "metadata": {},
   "source": [
    "#### So, what about that mutate?  How do we clean that up?\n",
    "\n",
    "**Answer.** Reduce!"
   ]
  },
  {
   "attachments": {
    "d47d7ee0-8485-4571-845f-a45f4d4ea6a6.png": {
     "image/png": "[encoded data removed]"
    }
   },
   "cell_type": "markdown",
   "id": "bc153610-e361-4c24-b348-721fadede1e1",
   "metadata": {},
   "source": [
    "### Recognizing the accumulator pattern\n",
    "\n",
    "<div>\n",
    "<img src=\"attachment:d47d7ee0-8485-4571-845f-a45f4d4ea6a6.png\" width=\"600\"/>\n",
    "</div>\n",
    "\n"
   ]
  },
  {
   "cell_type": "markdown",
   "id": "35e985cc-9ed0-4cf1-af1a-e5cd6caf665a",
   "metadata": {},
   "source": [
    "#### Abstracting the pattern with `reduce`\n",
    "\n",
    "`reduce` takes\n",
    "1. The update function, and\n",
    "2. An expression that represents a collection of columns."
   ]
  },
  {
   "cell_type": "code",
   "execution_count": 13,
   "id": "49361ddd-e4f8-4a53-9c35-9a046739e853",
   "metadata": {},
   "outputs": [],
   "source": [
    "from operator import add"
   ]
  },
  {
   "cell_type": "code",
   "execution_count": 15,
   "id": "52c50182-b43d-4fc9-b04c-f4cc723f0cda",
   "metadata": {},
   "outputs": [
    {
     "data": {
      "text/html": [
       "<div><style>\n",
       ".dataframe > thead > tr,\n",
       ".dataframe > tbody > tr {\n",
       "  text-align: right;\n",
       "  white-space: pre-wrap;\n",
       "}\n",
       "</style>\n",
       "<small>shape: (4, 6)</small><table border=\"1\" class=\"dataframe\"><thead><tr><th>Salesperson</th><th>Compact</th><th>Sedan</th><th>SUV</th><th>Truck</th><th>total</th></tr><tr><td>str</td><td>i64</td><td>i64</td><td>i64</td><td>i64</td><td>i64</td></tr></thead><tbody><tr><td>&quot;Yolanda&quot;</td><td>38</td><td>18</td><td>60</td><td>32</td><td>148</td></tr><tr><td>&quot;Xerxes&quot;</td><td>23</td><td>50</td><td>35</td><td>18</td><td>126</td></tr><tr><td>&quot;Ann&quot;</td><td>44</td><td>36</td><td>30</td><td>24</td><td>134</td></tr><tr><td>&quot;Bob&quot;</td><td>39</td><td>26</td><td>23</td><td>44</td><td>132</td></tr></tbody></table></div>"
      ],
      "text/plain": [
       "shape: (4, 6)\n",
       "┌─────────────┬─────────┬───────┬─────┬───────┬───────┐\n",
       "│ Salesperson ┆ Compact ┆ Sedan ┆ SUV ┆ Truck ┆ total │\n",
       "│ ---         ┆ ---     ┆ ---   ┆ --- ┆ ---   ┆ ---   │\n",
       "│ str         ┆ i64     ┆ i64   ┆ i64 ┆ i64   ┆ i64   │\n",
       "╞═════════════╪═════════╪═══════╪═════╪═══════╪═══════╡\n",
       "│ Yolanda     ┆ 38      ┆ 18    ┆ 60  ┆ 32    ┆ 148   │\n",
       "│ Xerxes      ┆ 23      ┆ 50    ┆ 35  ┆ 18    ┆ 126   │\n",
       "│ Ann         ┆ 44      ┆ 36    ┆ 30  ┆ 24    ┆ 134   │\n",
       "│ Bob         ┆ 39      ┆ 26    ┆ 23  ┆ 44    ┆ 132   │\n",
       "└─────────────┴─────────┴───────┴─────┴───────┴───────┘"
      ]
     },
     "execution_count": 15,
     "metadata": {},
     "output_type": "execute_result"
    }
   ],
   "source": [
    "( auto_sale_apr_may\n",
    "  .group_by('Salesperson')\n",
    "  .agg((cs.integer() - cs.by_name('ID')).sum())\n",
    "  .with_columns(total = pl.reduce(add, cs.integer()))\n",
    ")"
   ]
  },
  {
   "cell_type": "markdown",
   "id": "df906d02-f799-4193-b00e-271ff4025000",
   "metadata": {},
   "source": [
    "### Example 2 - Compute the minimum sales for each salesperson (across months and types)."
   ]
  },
  {
   "cell_type": "markdown",
   "id": "d8a0a2ab-33d7-4bf0-acfa-277e4707dd98",
   "metadata": {},
   "source": [
    "#### WET solution"
   ]
  },
  {
   "cell_type": "code",
   "execution_count": 27,
   "id": "e9f27707-8e37-46e1-b311-d91d290474fa",
   "metadata": {},
   "outputs": [
    {
     "ename": "ComputeError",
     "evalue": "the name 'total' passed to `LazyFrame.with_columns` is duplicate\n\nIt's possible that multiple expressions are returning the same default column name. If this is the case, try renaming the columns with `.alias(\"new_name\")` to avoid duplicate column names.",
     "output_type": "error",
     "traceback": [
      "\u001b[31m---------------------------------------------------------------------------\u001b[39m",
      "\u001b[31mComputeError\u001b[39m                              Traceback (most recent call last)",
      "\u001b[36mCell\u001b[39m\u001b[36m \u001b[39m\u001b[32mIn[27]\u001b[39m\u001b[32m, line 5\u001b[39m\n\u001b[32m      1\u001b[39m ( \u001b[43mauto_sale_apr_may\u001b[49m\n\u001b[32m      2\u001b[39m \u001b[43m  \u001b[49m\u001b[43m.\u001b[49m\u001b[43mdrop\u001b[49m\u001b[43m(\u001b[49m\u001b[33;43m'\u001b[39;49m\u001b[33;43mID\u001b[39;49m\u001b[33;43m'\u001b[39;49m\u001b[43m)\u001b[49m\n\u001b[32m      3\u001b[39m \u001b[43m  \u001b[49m\u001b[43m.\u001b[49m\u001b[43mgroup_by\u001b[49m\u001b[43m(\u001b[49m\u001b[33;43m'\u001b[39;49m\u001b[33;43mSalesperson\u001b[39;49m\u001b[33;43m'\u001b[39;49m\u001b[43m)\u001b[49m\n\u001b[32m      4\u001b[39m \u001b[43m  \u001b[49m\u001b[43m.\u001b[49m\u001b[43magg\u001b[49m\u001b[43m(\u001b[49m\u001b[43mcs\u001b[49m\u001b[43m.\u001b[49m\u001b[43minteger\u001b[49m\u001b[43m(\u001b[49m\u001b[43m)\u001b[49m\u001b[43m.\u001b[49m\u001b[43mmin\u001b[49m\u001b[43m(\u001b[49m\u001b[43m)\u001b[49m\u001b[43m)\u001b[49m\n\u001b[32m----> \u001b[39m\u001b[32m5\u001b[39m \u001b[43m  \u001b[49m\u001b[43m.\u001b[49m\u001b[43mwith_columns\u001b[49m\u001b[43m(\u001b[49m\u001b[43mtotal\u001b[49m\u001b[43m \u001b[49m\u001b[43m=\u001b[49m\u001b[43m \u001b[49m\u001b[43mpl\u001b[49m\u001b[43m.\u001b[49m\u001b[43mmin\u001b[49m\u001b[43m(\u001b[49m\u001b[33;43m'\u001b[39;49m\u001b[33;43mCompact\u001b[39;49m\u001b[33;43m'\u001b[39;49m\u001b[43m,\u001b[49m\u001b[43m \u001b[49m\u001b[33;43m'\u001b[39;49m\u001b[33;43mSedan\u001b[39;49m\u001b[33;43m'\u001b[39;49m\u001b[43m)\u001b[49m\u001b[43m)\u001b[49m\n\u001b[32m      6\u001b[39m )\n",
      "\u001b[36mFile \u001b[39m\u001b[32m/opt/anaconda3/envs/polars_new/lib/python3.12/site-packages/polars/dataframe/frame.py:10173\u001b[39m, in \u001b[36mDataFrame.with_columns\u001b[39m\u001b[34m(self, *exprs, **named_exprs)\u001b[39m\n\u001b[32m  10046\u001b[39m \u001b[38;5;250m\u001b[39m\u001b[33;03m\"\"\"\u001b[39;00m\n\u001b[32m  10047\u001b[39m \u001b[33;03mAdd columns to this DataFrame.\u001b[39;00m\n\u001b[32m  10048\u001b[39m \n\u001b[32m   (...)\u001b[39m\u001b[32m  10166\u001b[39m \u001b[33;03m└─────┴──────┴───────┴──────┴───────┘\u001b[39;00m\n\u001b[32m  10167\u001b[39m \u001b[33;03m\"\"\"\u001b[39;00m\n\u001b[32m  10168\u001b[39m \u001b[38;5;28;01mfrom\u001b[39;00m\u001b[38;5;250m \u001b[39m\u001b[34;01mpolars\u001b[39;00m\u001b[34;01m.\u001b[39;00m\u001b[34;01mlazyframe\u001b[39;00m\u001b[34;01m.\u001b[39;00m\u001b[34;01mopt_flags\u001b[39;00m\u001b[38;5;250m \u001b[39m\u001b[38;5;28;01mimport\u001b[39;00m QueryOptFlags\n\u001b[32m  10170\u001b[39m \u001b[38;5;28;01mreturn\u001b[39;00m (\n\u001b[32m  10171\u001b[39m     \u001b[38;5;28;43mself\u001b[39;49m\u001b[43m.\u001b[49m\u001b[43mlazy\u001b[49m\u001b[43m(\u001b[49m\u001b[43m)\u001b[49m\n\u001b[32m  10172\u001b[39m \u001b[43m    \u001b[49m\u001b[43m.\u001b[49m\u001b[43mwith_columns\u001b[49m\u001b[43m(\u001b[49m\u001b[43m*\u001b[49m\u001b[43mexprs\u001b[49m\u001b[43m,\u001b[49m\u001b[43m \u001b[49m\u001b[43m*\u001b[49m\u001b[43m*\u001b[49m\u001b[43mnamed_exprs\u001b[49m\u001b[43m)\u001b[49m\n\u001b[32m> \u001b[39m\u001b[32m10173\u001b[39m \u001b[43m    \u001b[49m\u001b[43m.\u001b[49m\u001b[43mcollect\u001b[49m\u001b[43m(\u001b[49m\u001b[43moptimizations\u001b[49m\u001b[43m=\u001b[49m\u001b[43mQueryOptFlags\u001b[49m\u001b[43m.\u001b[49m\u001b[43m_eager\u001b[49m\u001b[43m(\u001b[49m\u001b[43m)\u001b[49m\u001b[43m)\u001b[49m\n\u001b[32m  10174\u001b[39m )\n",
      "\u001b[36mFile \u001b[39m\u001b[32m/opt/anaconda3/envs/polars_new/lib/python3.12/site-packages/polars/_utils/deprecation.py:97\u001b[39m, in \u001b[36mdeprecate_streaming_parameter.<locals>.decorate.<locals>.wrapper\u001b[39m\u001b[34m(*args, **kwargs)\u001b[39m\n\u001b[32m     93\u001b[39m         kwargs[\u001b[33m\"\u001b[39m\u001b[33mengine\u001b[39m\u001b[33m\"\u001b[39m] = \u001b[33m\"\u001b[39m\u001b[33min-memory\u001b[39m\u001b[33m\"\u001b[39m\n\u001b[32m     95\u001b[39m     \u001b[38;5;28;01mdel\u001b[39;00m kwargs[\u001b[33m\"\u001b[39m\u001b[33mstreaming\u001b[39m\u001b[33m\"\u001b[39m]\n\u001b[32m---> \u001b[39m\u001b[32m97\u001b[39m \u001b[38;5;28;01mreturn\u001b[39;00m \u001b[43mfunction\u001b[49m\u001b[43m(\u001b[49m\u001b[43m*\u001b[49m\u001b[43margs\u001b[49m\u001b[43m,\u001b[49m\u001b[43m \u001b[49m\u001b[43m*\u001b[49m\u001b[43m*\u001b[49m\u001b[43mkwargs\u001b[49m\u001b[43m)\u001b[49m\n",
      "\u001b[36mFile \u001b[39m\u001b[32m/opt/anaconda3/envs/polars_new/lib/python3.12/site-packages/polars/lazyframe/opt_flags.py:330\u001b[39m, in \u001b[36mforward_old_opt_flags.<locals>.decorate.<locals>.wrapper\u001b[39m\u001b[34m(*args, **kwargs)\u001b[39m\n\u001b[32m    327\u001b[39m         optflags = cb(optflags, kwargs.pop(key))  \u001b[38;5;66;03m# type: ignore[no-untyped-call,unused-ignore]\u001b[39;00m\n\u001b[32m    329\u001b[39m kwargs[\u001b[33m\"\u001b[39m\u001b[33moptimizations\u001b[39m\u001b[33m\"\u001b[39m] = optflags\n\u001b[32m--> \u001b[39m\u001b[32m330\u001b[39m \u001b[38;5;28;01mreturn\u001b[39;00m \u001b[43mfunction\u001b[49m\u001b[43m(\u001b[49m\u001b[43m*\u001b[49m\u001b[43margs\u001b[49m\u001b[43m,\u001b[49m\u001b[43m \u001b[49m\u001b[43m*\u001b[49m\u001b[43m*\u001b[49m\u001b[43mkwargs\u001b[49m\u001b[43m)\u001b[49m\n",
      "\u001b[36mFile \u001b[39m\u001b[32m/opt/anaconda3/envs/polars_new/lib/python3.12/site-packages/polars/lazyframe/frame.py:2407\u001b[39m, in \u001b[36mLazyFrame.collect\u001b[39m\u001b[34m(self, type_coercion, predicate_pushdown, projection_pushdown, simplify_expression, slice_pushdown, comm_subplan_elim, comm_subexpr_elim, cluster_with_columns, collapse_joins, no_optimization, engine, background, optimizations, **_kwargs)\u001b[39m\n\u001b[32m   2405\u001b[39m \u001b[38;5;66;03m# Only for testing purposes\u001b[39;00m\n\u001b[32m   2406\u001b[39m callback = _kwargs.get(\u001b[33m\"\u001b[39m\u001b[33mpost_opt_callback\u001b[39m\u001b[33m\"\u001b[39m, callback)\n\u001b[32m-> \u001b[39m\u001b[32m2407\u001b[39m \u001b[38;5;28;01mreturn\u001b[39;00m wrap_df(\u001b[43mldf\u001b[49m\u001b[43m.\u001b[49m\u001b[43mcollect\u001b[49m\u001b[43m(\u001b[49m\u001b[43mengine\u001b[49m\u001b[43m,\u001b[49m\u001b[43m \u001b[49m\u001b[43mcallback\u001b[49m\u001b[43m)\u001b[49m)\n",
      "\u001b[31mComputeError\u001b[39m: the name 'total' passed to `LazyFrame.with_columns` is duplicate\n\nIt's possible that multiple expressions are returning the same default column name. If this is the case, try renaming the columns with `.alias(\"new_name\")` to avoid duplicate column names."
     ]
    }
   ],
   "source": [
    "( auto_sale_apr_may\n",
    "  .drop('ID')\n",
    "  .group_by('Salesperson')\n",
    "  .agg(cs.integer().min())\n",
    "  .with_columns(total = pl.when(pl.col('Compact') <= pl.col('Sedan')))\n",
    ")"
   ]
  },
  {
   "cell_type": "markdown",
   "id": "a1dfc9c1-3643-4c93-b9c1-fea40da8f019",
   "metadata": {},
   "source": [
    "## <font color=\"red\">Exercise 3.8.1 - Compute other sales statistic</font>\n",
    "\n",
    "Now suppose that we want to compute the overall *maximum* and *minumum* sales for each employee over both months and all sub-types.  Write a single dot-chain to accomplish this task twice \n",
    "1. First using the brute-force/WET solution, and then\n",
    "2. Using `reduce` to perform the computation across the sub-type columns."
   ]
  },
  {
   "cell_type": "code",
   "execution_count": 12,
   "id": "621293ae-d0ab-4373-96d6-f6801a731b3f",
   "metadata": {},
   "outputs": [],
   "source": [
    "# Your WET code here"
   ]
  },
  {
   "cell_type": "code",
   "execution_count": 9,
   "id": "527b55e3-2324-4b0a-ad24-53e17df075ce",
   "metadata": {},
   "outputs": [],
   "source": [
    "# Your reduce code here"
   ]
  },
  {
   "cell_type": "markdown",
   "id": "9a0df3da-5671-4ce9-9bac-db9c06dfb9b3",
   "metadata": {},
   "source": [
    "## Pattern 2 - Providing an initial value\n",
    "\n",
    "Suppose for some reason, we want pad the total sales numbers by 5.  In this case, we need to set the initial value explicitly."
   ]
  },
  {
   "cell_type": "code",
   "execution_count": 10,
   "id": "6d720727-f76a-4ef9-bf47-9572ef316fd7",
   "metadata": {},
   "outputs": [
    {
     "data": {
      "text/html": [
       "<div><style>\n",
       ".dataframe > thead > tr,\n",
       ".dataframe > tbody > tr {\n",
       "  text-align: right;\n",
       "  white-space: pre-wrap;\n",
       "}\n",
       "</style>\n",
       "<small>shape: (4, 6)</small><table border=\"1\" class=\"dataframe\"><thead><tr><th>Salesperson</th><th>Compact</th><th>Sedan</th><th>SUV</th><th>Truck</th><th>total_plus_five</th></tr><tr><td>str</td><td>i64</td><td>i64</td><td>i64</td><td>i64</td><td>i64</td></tr></thead><tbody><tr><td>&quot;Xerxes&quot;</td><td>23</td><td>50</td><td>35</td><td>18</td><td>131</td></tr><tr><td>&quot;Ann&quot;</td><td>44</td><td>36</td><td>30</td><td>24</td><td>139</td></tr><tr><td>&quot;Yolanda&quot;</td><td>38</td><td>18</td><td>60</td><td>32</td><td>153</td></tr><tr><td>&quot;Bob&quot;</td><td>39</td><td>26</td><td>23</td><td>44</td><td>137</td></tr></tbody></table></div>"
      ],
      "text/plain": [
       "shape: (4, 6)\n",
       "┌─────────────┬─────────┬───────┬─────┬───────┬─────────────────┐\n",
       "│ Salesperson ┆ Compact ┆ Sedan ┆ SUV ┆ Truck ┆ total_plus_five │\n",
       "│ ---         ┆ ---     ┆ ---   ┆ --- ┆ ---   ┆ ---             │\n",
       "│ str         ┆ i64     ┆ i64   ┆ i64 ┆ i64   ┆ i64             │\n",
       "╞═════════════╪═════════╪═══════╪═════╪═══════╪═════════════════╡\n",
       "│ Xerxes      ┆ 23      ┆ 50    ┆ 35  ┆ 18    ┆ 131             │\n",
       "│ Ann         ┆ 44      ┆ 36    ┆ 30  ┆ 24    ┆ 139             │\n",
       "│ Yolanda     ┆ 38      ┆ 18    ┆ 60  ┆ 32    ┆ 153             │\n",
       "│ Bob         ┆ 39      ┆ 26    ┆ 23  ┆ 44    ┆ 137             │\n",
       "└─────────────┴─────────┴───────┴─────┴───────┴─────────────────┘"
      ]
     },
     "execution_count": 10,
     "metadata": {},
     "output_type": "execute_result"
    }
   ],
   "source": [
    "( auto_sale_apr_may\n",
    "  .group_by('Salesperson')\n",
    "  .agg((cs.integer() - cs.by_name('ID')).sum())\n",
    "  .with_columns(total_plus_five = pl.lit(5) + pl.col('Compact') +\tpl.col('Sedan') +\tpl.col('SUV') +\tpl.col('Truck'))\n",
    ")\n"
   ]
  },
  {
   "cell_type": "markdown",
   "id": "f83badff-a689-4f25-9dc8-de74c355b871",
   "metadata": {},
   "source": [
    "### Using `fold` to provide an initial value"
   ]
  },
  {
   "cell_type": "code",
   "execution_count": 11,
   "id": "d43de42a-a583-464c-97ed-0e6cdad53832",
   "metadata": {},
   "outputs": [
    {
     "data": {
      "text/html": [
       "<div><style>\n",
       ".dataframe > thead > tr,\n",
       ".dataframe > tbody > tr {\n",
       "  text-align: right;\n",
       "  white-space: pre-wrap;\n",
       "}\n",
       "</style>\n",
       "<small>shape: (4, 6)</small><table border=\"1\" class=\"dataframe\"><thead><tr><th>Salesperson</th><th>Compact</th><th>Sedan</th><th>SUV</th><th>Truck</th><th>total_plus_five</th></tr><tr><td>str</td><td>i64</td><td>i64</td><td>i64</td><td>i64</td><td>i64</td></tr></thead><tbody><tr><td>&quot;Bob&quot;</td><td>39</td><td>26</td><td>23</td><td>44</td><td>137</td></tr><tr><td>&quot;Xerxes&quot;</td><td>23</td><td>50</td><td>35</td><td>18</td><td>131</td></tr><tr><td>&quot;Ann&quot;</td><td>44</td><td>36</td><td>30</td><td>24</td><td>139</td></tr><tr><td>&quot;Yolanda&quot;</td><td>38</td><td>18</td><td>60</td><td>32</td><td>153</td></tr></tbody></table></div>"
      ],
      "text/plain": [
       "shape: (4, 6)\n",
       "┌─────────────┬─────────┬───────┬─────┬───────┬─────────────────┐\n",
       "│ Salesperson ┆ Compact ┆ Sedan ┆ SUV ┆ Truck ┆ total_plus_five │\n",
       "│ ---         ┆ ---     ┆ ---   ┆ --- ┆ ---   ┆ ---             │\n",
       "│ str         ┆ i64     ┆ i64   ┆ i64 ┆ i64   ┆ i64             │\n",
       "╞═════════════╪═════════╪═══════╪═════╪═══════╪═════════════════╡\n",
       "│ Bob         ┆ 39      ┆ 26    ┆ 23  ┆ 44    ┆ 137             │\n",
       "│ Xerxes      ┆ 23      ┆ 50    ┆ 35  ┆ 18    ┆ 131             │\n",
       "│ Ann         ┆ 44      ┆ 36    ┆ 30  ┆ 24    ┆ 139             │\n",
       "│ Yolanda     ┆ 38      ┆ 18    ┆ 60  ┆ 32    ┆ 153             │\n",
       "└─────────────┴─────────┴───────┴─────┴───────┴─────────────────┘"
      ]
     },
     "execution_count": 11,
     "metadata": {},
     "output_type": "execute_result"
    }
   ],
   "source": [
    "( auto_sale_apr_may\n",
    "  .group_by('Salesperson')\n",
    "  .agg((cs.integer() - cs.by_name('ID')).sum())\n",
    "  .with_columns(total_plus_five = pl.fold(pl.lit(5), lambda acc, col: acc + col, cs.integer()))\n",
    ")\n"
   ]
  },
  {
   "cell_type": "markdown",
   "id": "cba2f545",
   "metadata": {},
   "source": [
    "## Example - Computing the Bayes estimate\n",
    "\n",
    "**Question.** What it the probability that a randomly selected auto sale for Ann is a Compact or Sedan?\n",
    "\n",
    "**Approach.** Estimate this answer using the Bayes rule (see [the sunrise problem](https://en.wikipedia.org/wiki/Sunrise_problem) for a history), e.g.,\n",
    "\n",
    "$$Probability \\approx \\frac{Successes + 1}{Trials + 2}$$"
   ]
  },
  {
   "cell_type": "markdown",
   "id": "713e367f",
   "metadata": {},
   "source": [
    "#### Column aggregations via `fold`"
   ]
  },
  {
   "cell_type": "code",
   "execution_count": 26,
   "id": "1a083835",
   "metadata": {},
   "outputs": [
    {
     "data": {
      "text/html": [
       "<div><style>\n",
       ".dataframe > thead > tr,\n",
       ".dataframe > tbody > tr {\n",
       "  text-align: right;\n",
       "  white-space: pre-wrap;\n",
       "}\n",
       "</style>\n",
       "<small>shape: (1, 7)</small><table border=\"1\" class=\"dataframe\"><thead><tr><th>Salesperson</th><th>ID</th><th>Compact</th><th>Sedan</th><th>SUV</th><th>Truck</th><th>est_prob</th></tr><tr><td>str</td><td>i64</td><td>i64</td><td>i64</td><td>i64</td><td>i64</td><td>f64</td></tr></thead><tbody><tr><td>&quot;Ann&quot;</td><td>0</td><td>44</td><td>36</td><td>30</td><td>24</td><td>0.595588</td></tr></tbody></table></div>"
      ],
      "text/plain": [
       "shape: (1, 7)\n",
       "┌─────────────┬─────┬─────────┬───────┬─────┬───────┬──────────┐\n",
       "│ Salesperson ┆ ID  ┆ Compact ┆ Sedan ┆ SUV ┆ Truck ┆ est_prob │\n",
       "│ ---         ┆ --- ┆ ---     ┆ ---   ┆ --- ┆ ---   ┆ ---      │\n",
       "│ str         ┆ i64 ┆ i64     ┆ i64   ┆ i64 ┆ i64   ┆ f64      │\n",
       "╞═════════════╪═════╪═════════╪═══════╪═════╪═══════╪══════════╡\n",
       "│ Ann         ┆ 0   ┆ 44      ┆ 36    ┆ 30  ┆ 24    ┆ 0.595588 │\n",
       "└─────────────┴─────┴─────────┴───────┴─────┴───────┴──────────┘"
      ]
     },
     "execution_count": 26,
     "metadata": {},
     "output_type": "execute_result"
    }
   ],
   "source": [
    "(auto_sale_apr_may\n",
    " .group_by('Salesperson')\n",
    " .agg(cs.integer().sum())\n",
    " .filter(pl.col('Salesperson') == 'Ann')\n",
    " .with_columns(est_prob  = (pl.fold(pl.lit(1), lambda acc, col: acc + col, cs.by_name('Compact', 'Sedan'))/\n",
    "                            pl.fold(pl.lit(2), lambda acc, col: acc + col, cs.integer() - cs.by_name('ID'))\n",
    "                           )\n",
    "              )\n",
    "#  .drop(cs.integer())\n",
    ")"
   ]
  },
  {
   "cell_type": "markdown",
   "id": "a8878861",
   "metadata": {},
   "source": [
    "#### Replacing the `lambda` with a `polars` helper"
   ]
  },
  {
   "cell_type": "code",
   "execution_count": 25,
   "id": "216c5a29",
   "metadata": {},
   "outputs": [
    {
     "data": {
      "text/html": [
       "<div><style>\n",
       ".dataframe > thead > tr,\n",
       ".dataframe > tbody > tr {\n",
       "  text-align: right;\n",
       "  white-space: pre-wrap;\n",
       "}\n",
       "</style>\n",
       "<small>shape: (1, 7)</small><table border=\"1\" class=\"dataframe\"><thead><tr><th>Salesperson</th><th>ID</th><th>Compact</th><th>Sedan</th><th>SUV</th><th>Truck</th><th>est_prob</th></tr><tr><td>str</td><td>i64</td><td>i64</td><td>i64</td><td>i64</td><td>i64</td><td>f64</td></tr></thead><tbody><tr><td>&quot;Ann&quot;</td><td>0</td><td>44</td><td>36</td><td>30</td><td>24</td><td>0.595588</td></tr></tbody></table></div>"
      ],
      "text/plain": [
       "shape: (1, 7)\n",
       "┌─────────────┬─────┬─────────┬───────┬─────┬───────┬──────────┐\n",
       "│ Salesperson ┆ ID  ┆ Compact ┆ Sedan ┆ SUV ┆ Truck ┆ est_prob │\n",
       "│ ---         ┆ --- ┆ ---     ┆ ---   ┆ --- ┆ ---   ┆ ---      │\n",
       "│ str         ┆ i64 ┆ i64     ┆ i64   ┆ i64 ┆ i64   ┆ f64      │\n",
       "╞═════════════╪═════╪═════════╪═══════╪═════╪═══════╪══════════╡\n",
       "│ Ann         ┆ 0   ┆ 44      ┆ 36    ┆ 30  ┆ 24    ┆ 0.595588 │\n",
       "└─────────────┴─────┴─────────┴───────┴─────┴───────┴──────────┘"
      ]
     },
     "execution_count": 25,
     "metadata": {},
     "output_type": "execute_result"
    }
   ],
   "source": [
    "(auto_sale_apr_may\n",
    " .group_by('Salesperson')\n",
    " .agg(cs.integer().sum())\n",
    " .filter(pl.col('Salesperson') == 'Ann')\n",
    " .with_columns(est_prob  = (pl.fold(pl.lit(1), pl.sum_horizontal, cs.by_name('Compact', 'Sedan'))/\n",
    "                            pl.fold(pl.lit(2), pl.sum_horizontal, cs.integer() - cs.by_name('ID'))\n",
    "                           )\n",
    "              )\n",
    "#  .drop(cs.integer())\n",
    ")"
   ]
  },
  {
   "cell_type": "markdown",
   "id": "cbe8b280",
   "metadata": {},
   "source": [
    "#### Column aggregations using `sum_horizontal`"
   ]
  },
  {
   "cell_type": "code",
   "execution_count": 23,
   "id": "d14ade4f",
   "metadata": {},
   "outputs": [
    {
     "data": {
      "text/html": [
       "<div><style>\n",
       ".dataframe > thead > tr,\n",
       ".dataframe > tbody > tr {\n",
       "  text-align: right;\n",
       "  white-space: pre-wrap;\n",
       "}\n",
       "</style>\n",
       "<small>shape: (1, 7)</small><table border=\"1\" class=\"dataframe\"><thead><tr><th>Salesperson</th><th>ID</th><th>Compact</th><th>Sedan</th><th>SUV</th><th>Truck</th><th>est_prob</th></tr><tr><td>str</td><td>i64</td><td>i64</td><td>i64</td><td>i64</td><td>i64</td><td>f64</td></tr></thead><tbody><tr><td>&quot;Ann&quot;</td><td>0</td><td>44</td><td>36</td><td>30</td><td>24</td><td>0.595588</td></tr></tbody></table></div>"
      ],
      "text/plain": [
       "shape: (1, 7)\n",
       "┌─────────────┬─────┬─────────┬───────┬─────┬───────┬──────────┐\n",
       "│ Salesperson ┆ ID  ┆ Compact ┆ Sedan ┆ SUV ┆ Truck ┆ est_prob │\n",
       "│ ---         ┆ --- ┆ ---     ┆ ---   ┆ --- ┆ ---   ┆ ---      │\n",
       "│ str         ┆ i64 ┆ i64     ┆ i64   ┆ i64 ┆ i64   ┆ f64      │\n",
       "╞═════════════╪═════╪═════════╪═══════╪═════╪═══════╪══════════╡\n",
       "│ Ann         ┆ 0   ┆ 44      ┆ 36    ┆ 30  ┆ 24    ┆ 0.595588 │\n",
       "└─────────────┴─────┴─────────┴───────┴─────┴───────┴──────────┘"
      ]
     },
     "execution_count": 23,
     "metadata": {},
     "output_type": "execute_result"
    }
   ],
   "source": [
    "(auto_sale_apr_may\n",
    " .group_by('Salesperson')\n",
    " .agg(cs.integer().sum())\n",
    " .filter(pl.col('Salesperson') == 'Ann')\n",
    " .with_columns(est_prob  = ((pl.sum_horizontal(cs.by_name('Compact', 'Sedan'))  + pl.lit(1))/\n",
    "                            (pl.sum_horizontal(cs.integer() - cs.by_name('ID')) + pl.lit(2))\n",
    "                           )\n",
    "              )\n",
    "#  .drop(cs.integer())\n",
    ")"
   ]
  },
  {
   "cell_type": "markdown",
   "id": "83dda0d9-818d-49c7-b96e-f89ed1bfc262",
   "metadata": {},
   "source": [
    "## <font color=\"red\">Exercise 3.8.2</font> - Estimating another probability\n",
    "\n",
    "For each salesperson, estimate the probability that a randomly selected sale is either a Truck or Utility vehicle, two ways:\n",
    "1. Use `fold` to aggregate across the rows, then\n",
    "2. Replace the `fold`s with calls to `sum_horizontal`.\n"
   ]
  },
  {
   "cell_type": "code",
   "execution_count": 76,
   "id": "8f364ac5-8041-470c-ab94-ae9285d2f0c2",
   "metadata": {},
   "outputs": [],
   "source": [
    "# Your code using fold  here"
   ]
  },
  {
   "cell_type": "code",
   "execution_count": 27,
   "id": "15f929ae",
   "metadata": {},
   "outputs": [],
   "source": [
    "# Your code using sum_horizontal  here"
   ]
  }
 ],
 "metadata": {
  "kernelspec": {
   "display_name": "Python 3 (ipykernel)",
   "language": "python",
   "name": "python3"
  },
  "language_info": {
   "codemirror_mode": {
    "name": "ipython",
    "version": 3
   },
   "file_extension": ".py",
   "mimetype": "text/x-python",
   "name": "python",
   "nbconvert_exporter": "python",
   "pygments_lexer": "ipython3",
   "version": "3.12.11"
  }
 },
 "nbformat": 4,
 "nbformat_minor": 5
}
